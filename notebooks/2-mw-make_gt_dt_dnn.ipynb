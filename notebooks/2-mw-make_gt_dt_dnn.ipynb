{
 "cells": [
  {
   "cell_type": "markdown",
   "metadata": {},
   "source": [
    "# Make groundtruth\n",
    "\n",
    "Here we make ground truth data"
   ]
  },
  {
   "cell_type": "code",
   "execution_count": 3,
   "metadata": {},
   "outputs": [],
   "source": [
    "import sys\n",
    "# set system path for importing modules\n",
    "sys.path.append('../src/')"
   ]
  },
  {
   "cell_type": "code",
   "execution_count": 4,
   "metadata": {},
   "outputs": [
    {
     "name": "stderr",
     "output_type": "stream",
     "text": [
      "/Users/melvinwevers/virtualenvs/advertisinggender/lib/python3.7/site-packages/sklearn/base.py:306: UserWarning: Trying to unpickle estimator LinearSVC from version 0.19.2 when using version 0.21.3. This might lead to breaking code or invalid results. Use at your own risk.\n",
      "  UserWarning)\n"
     ]
    }
   ],
   "source": [
    "import cv2\n",
    "import glob\n",
    "import numpy as np\n",
    "import os\n",
    "import random\n",
    "from tqdm import tqdm\n",
    "\n",
    "from utils import *\n"
   ]
  },
  {
   "cell_type": "markdown",
   "metadata": {},
   "source": [
    "# Configuration"
   ]
  },
  {
   "cell_type": "code",
   "execution_count": 3,
   "metadata": {},
   "outputs": [],
   "source": [
    "# here we load the opencv dnn into memory\n",
    "modelFile = \"../models/face_detection/opencv_face_detector_uint8.pb\"\n",
    "configFile = \"../models/face_detection/opencv_face_detector.pbtxt\"\n",
    "net = cv2.dnn.readNetFromTensorflow(modelFile, configFile)\n",
    "\n",
    "# list of images\n",
    "files_ = glob.glob('../data/processed/KB_FACES/**/*.jpg')\n",
    "\n",
    "# list of file bases of annotations\n",
    "annotations_path = '../data/raw/annotations/'\n",
    "annotations = glob.glob(annotations_path + '/*')\n",
    "annotations_base = [os.path.splitext(os.path.basename(annotation))[0] for annotation in annotations]\n",
    "\n",
    "# path for ground truth files (GT) and face detections (DT)\n",
    "GT_PATH = '../data/processed/gt_faces'\n",
    "DT_PATH = '../data/processed/dnn_detections'"
   ]
  },
  {
   "cell_type": "markdown",
   "metadata": {},
   "source": [
    "# Functions"
   ]
  },
  {
   "cell_type": "code",
   "execution_count": 6,
   "metadata": {},
   "outputs": [
    {
     "name": "stdout",
     "output_type": "stream",
     "text": [
      "[132.53872096 149.14164716 159.11766674   0.        ]\n",
      "[15.81537613 19.75474589 21.62042793  0.        ]\n"
     ]
    }
   ],
   "source": [
    "files_ = glob.glob('../data/processed/gender_/**/**/*.jpg')\n",
    "\n",
    "# calculate mean RGB values\n",
    "calculate_mean(files_)"
   ]
  },
  {
   "cell_type": "markdown",
   "metadata": {},
   "source": [
    "# Extracting Ground Truths and Detecting Faces\n",
    "We extract GTs and put them in the PASCAL VOC format. <br>\n",
    "Next, we detect faces using OpenCV DNN method. "
   ]
  },
  {
   "cell_type": "code",
   "execution_count": 4,
   "metadata": {},
   "outputs": [
    {
     "name": "stderr",
     "output_type": "stream",
     "text": [
      "100%|██████████| 43998/43998 [18:08<00:00, 40.43it/s] \n"
     ]
    }
   ],
   "source": [
    "for index, file_ in enumerate(tqdm(files_)):\n",
    "    file_base = os.path.splitext(os.path.basename(file_))[0]   \n",
    "    if file_base in annotations_base: #check if file contains annotations\n",
    "        xml = annotations_path + file_base + '.xml'\n",
    "        generate_gt(xml, \"face\", file_base, GT_PATH) # This parameter specificies the object category 'face'\n",
    "        generate_dt(file_, \"face\", file_base, DT_PATH, net)\n",
    "    else:\n",
    "        pass"
   ]
  },
  {
   "cell_type": "code",
   "execution_count": null,
   "metadata": {},
   "outputs": [],
   "source": []
  }
 ],
 "metadata": {
  "kernelspec": {
   "display_name": "Python 3",
   "language": "python",
   "name": "python3"
  },
  "language_info": {
   "codemirror_mode": {
    "name": "ipython",
    "version": 3
   },
   "file_extension": ".py",
   "mimetype": "text/x-python",
   "name": "python",
   "nbconvert_exporter": "python",
   "pygments_lexer": "ipython3",
   "version": "3.7.6"
  }
 },
 "nbformat": 4,
 "nbformat_minor": 4
}
