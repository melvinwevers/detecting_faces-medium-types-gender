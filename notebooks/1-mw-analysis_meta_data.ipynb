{
 "cells": [
  {
   "cell_type": "markdown",
   "metadata": {},
   "source": [
    "# 1. Analysis of samples\n",
    "\n",
    "In this notebook, we analyze the samples. "
   ]
  },
  {
   "cell_type": "markdown",
   "metadata": {},
   "source": [
    "## Libraries"
   ]
  },
  {
   "cell_type": "code",
   "execution_count": 1,
   "metadata": {},
   "outputs": [],
   "source": [
    "import pandas as pd\n",
    "import scikits.bootstrap as bootstrap  \n",
    "import matplotlib.pyplot as plt\n",
    "from pandas.plotting import register_matplotlib_converters\n",
    "register_matplotlib_converters()\n",
    "import numpy as np\n",
    "output_dir = '../reports/figures/'"
   ]
  },
  {
   "cell_type": "markdown",
   "metadata": {},
   "source": [
    "## Counts"
   ]
  },
  {
   "cell_type": "code",
   "execution_count": 2,
   "metadata": {},
   "outputs": [],
   "source": [
    "freq = 'Y' # on what resolution should we concatenate the data. Default is month\n",
    "\n",
    "ad_meta = pd.read_csv('../data/processed/counts.csv')\n",
    "ad_meta['date'] = pd.to_datetime(ad_meta['date'])\n",
    "ad_meta = ad_meta[ad_meta['total_count'] != 0]\n",
    "\n",
    "#ad_meta2 = ad_meta[(ad_meta['men_count'] > 0) | ad_meta['women_count'] > 0] # Remove 0 values\n",
    "\n",
    "x = ad_meta.set_index('date').groupby(pd.Grouper(freq=freq)).sum().reset_index()['date']\n",
    "y_men = ad_meta.set_index('date').groupby(pd.Grouper(freq=freq))['men_count'].sum()\n",
    "y_women = ad_meta.set_index('date').groupby(pd.Grouper(freq=freq))['women_count'].sum()\n",
    "\n",
    "df = pd.DataFrame(list(zip(x, y_women, y_men)), columns=['date', 'count_f', 'count_m'])\n",
    "df['year'] = df['date'].dt.year\n",
    "\n",
    "df.reset_index(inplace=True)\n",
    "\n",
    "df['count_f.s'] = (df['count_f'] - df['count_f'].mean()) / df['count_f'].std()\n",
    "df['count_m.s'] = (df['count_m'] - df['count_m'].mean()) / df['count_m'].std()"
   ]
  },
  {
   "cell_type": "code",
   "execution_count": 3,
   "metadata": {},
   "outputs": [],
   "source": [
    "CIs_f = ad_meta.set_index('date').groupby(pd.Grouper(freq=freq))['women_count'].apply(lambda x:bootstrap.ci(data=x, statfunction=np.mean))\n",
    "CIs_m = ad_meta.set_index('date').groupby(pd.Grouper(freq=freq))['men_count'].apply(lambda x:bootstrap.ci(data=x, statfunction=np.mean))"
   ]
  },
  {
   "cell_type": "code",
   "execution_count": 4,
   "metadata": {},
   "outputs": [],
   "source": [
    "upper_x_m = [x[1] for x in CIs_m]\n",
    "lower_x_m = [x[0] for x in CIs_m]\n",
    "mean_x_m = ad_meta.set_index('date').groupby(pd.Grouper(freq=freq))['men_count'].mean()\n",
    "\n",
    "upper_x_f = [x[1] for x in CIs_f]\n",
    "lower_x_f = [x[0] for x in CIs_f]\n",
    "mean_x_f = ad_meta.set_index('date').groupby(pd.Grouper(freq=freq))['women_count'].mean()"
   ]
  },
  {
   "cell_type": "code",
   "execution_count": 8,
   "metadata": {},
   "outputs": [
    {
     "data": {
      "image/png": "[encoded data removed]",
      "text/plain": [
       "<Figure size 432x288 with 1 Axes>"
      ]
     },
     "metadata": {
      "needs_background": "light"
     },
     "output_type": "display_data"
    }
   ],
   "source": [
    "#plt.plot(mean_x)\n",
    "plt.errorbar(mean_x_m.index, mean_x_m, yerr=[upper_x_m - mean_x_m, mean_x_m - lower_x_m], capsize=3, fmt='o',  label='men', color='#003f5c')\n",
    "plt.errorbar(mean_x_f.index, mean_x_f, yerr=[upper_x_f - mean_x_f, mean_x_f - lower_x_f], capsize=3, fmt='o', label='women', color='#ffa600')\n",
    "plt.ylabel('Faces')\n",
    "plt.xlabel('Year')\n",
    "plt.tight_layout()\n",
    "plt.title('Average number of faces in ads with people')\n",
    "plt.legend()\n",
    "plt.tight_layout()\n",
    "plt.savefig(output_dir + '/average_faces.png', dpi=180)"
   ]
  },
  {
   "cell_type": "markdown",
   "metadata": {},
   "source": [
    "This scatter plot shows that females are less frequent in ads and they also seem to decrease faster than men"
   ]
  },
  {
   "cell_type": "code",
   "execution_count": null,
   "metadata": {},
   "outputs": [],
   "source": []
  }
 ],
 "metadata": {
  "kernelspec": {
   "display_name": "Python 3",
   "language": "python",
   "name": "python3"
  },
  "language_info": {
   "codemirror_mode": {
    "name": "ipython",
    "version": 3
   },
   "file_extension": ".py",
   "mimetype": "text/x-python",
   "name": "python",
   "nbconvert_exporter": "python",
   "pygments_lexer": "ipython3",
   "version": "3.7.6"
  }
 },
 "nbformat": 4,
 "nbformat_minor": 4
}
